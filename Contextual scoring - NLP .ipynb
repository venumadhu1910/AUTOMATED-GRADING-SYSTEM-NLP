{
 "cells": [
  {
   "cell_type": "markdown",
   "metadata": {
    "id": "zkOCB2hOYSls"
   },
   "source": [
    "## Automated Grading System - Project Key 1"
   ]
  },
  {
   "cell_type": "markdown",
   "metadata": {},
   "source": [
    "In the context of an automated grading system designed for textual question answering tasks, two evaluation metrics are typically employed to assess the accuracy of answers in relation to provided reference answers.\n",
    "\n",
    "The first metric, Exact Match, operates by assigning a score of 1.0 if the predicted answer exactly matches any of the reference answers. Conversely, if there is no exact match, a score of 0.0 is assigned.\n",
    "\n",
    "The second metric, the F1 Score, calculates the average word overlap between the predicted answer and the reference answers. This metric is particularly valuable as it aims to optimize both precision and recall rates simultaneously, ensuring a balanced assessment of the model's performance within the automated grading system."
   ]
  },
  {
   "cell_type": "code",
   "execution_count": 2,
   "metadata": {
    "id": "iiXMZ8DCGTAd"
   },
   "outputs": [],
   "source": [
    "%%capture\n",
    "!pip install transformers"
   ]
  },
  {
   "cell_type": "code",
   "execution_count": 3,
   "metadata": {
    "id": "7ceLmdhiLCc2"
   },
   "outputs": [],
   "source": [
    "import torch\n",
    "from transformers import AutoTokenizer,BertTokenizerFast, BertForQuestionAnswering"
   ]
  },
  {
   "cell_type": "markdown",
   "metadata": {
    "id": "h9dnu9b9YoKz"
   },
   "source": [
    "## Load the fine tuned model"
   ]
  },
  {
   "cell_type": "code",
   "execution_count": 4,
   "metadata": {
    "colab": {
     "base_uri": "https://localhost:8080/",
     "height": 1000,
     "referenced_widgets": [
      "8c6a9219db3e4b14be0f9af99f76fbad",
      "7caa0cbec50b431d861e8335f123a97c",
      "675e804c229e4a4bbcda754c9ad6e1d0",
      "3b1b3523f4f44e92b9057606aa1416de",
      "dc7bb69b4c5640bdb35c3de3d3984d4e",
      "55d5f382710d46b68cc3fa5edba14a3f",
      "2cd2be854d124889914f51a1c6e45c38",
      "a579eae1c7ef481f81fa022d2a5b56fd"
     ]
    },
    "id": "p1AlroecLHQw",
    "outputId": "3306ba24-df20-437e-b068-390b1ee6c047"
   },
   "outputs": [
    {
     "data": {
      "application/vnd.jupyter.widget-view+json": {
       "model_id": "5a84cfbb5d584954aff955a5689370d2",
       "version_major": 2,
       "version_minor": 0
      },
      "text/plain": [
       "Downloading tokenizer_config.json:   0%|          | 0.00/48.0 [00:00<?, ?B/s]"
      ]
     },
     "metadata": {},
     "output_type": "display_data"
    },
    {
     "name": "stderr",
     "output_type": "stream",
     "text": [
      "C:\\Users\\kashy\\anaconda3\\lib\\site-packages\\huggingface_hub\\file_download.py:133: UserWarning: `huggingface_hub` cache-system uses symlinks by default to efficiently store duplicated files but your machine does not support them in C:\\Users\\kashy\\.cache\\huggingface\\hub. Caching files will still work but in a degraded version that might require more space on your disk. This warning can be disabled by setting the `HF_HUB_DISABLE_SYMLINKS_WARNING` environment variable. For more details, see https://huggingface.co/docs/huggingface_hub/how-to-cache#limitations.\n",
      "To support symlinks on Windows, you either need to activate Developer Mode or to run Python as an administrator. In order to see activate developer mode, see this article: https://docs.microsoft.com/en-us/windows/apps/get-started/enable-your-device-for-development\n",
      "  warnings.warn(message)\n"
     ]
    },
    {
     "data": {
      "application/vnd.jupyter.widget-view+json": {
       "model_id": "7b287b023ea541aeade0e03b87147137",
       "version_major": 2,
       "version_minor": 0
      },
      "text/plain": [
       "Downloading config.json:   0%|          | 0.00/443 [00:00<?, ?B/s]"
      ]
     },
     "metadata": {},
     "output_type": "display_data"
    },
    {
     "data": {
      "application/vnd.jupyter.widget-view+json": {
       "model_id": "bc57b59fed0c4593a5eb668aef7415b1",
       "version_major": 2,
       "version_minor": 0
      },
      "text/plain": [
       "Downloading vocab.txt:   0%|          | 0.00/232k [00:00<?, ?B/s]"
      ]
     },
     "metadata": {},
     "output_type": "display_data"
    },
    {
     "data": {
      "application/vnd.jupyter.widget-view+json": {
       "model_id": "78586c9a675c42298235a23c76d6cfca",
       "version_major": 2,
       "version_minor": 0
      },
      "text/plain": [
       "Downloading tokenizer.json:   0%|          | 0.00/466k [00:00<?, ?B/s]"
      ]
     },
     "metadata": {},
     "output_type": "display_data"
    },
    {
     "data": {
      "application/vnd.jupyter.widget-view+json": {
       "model_id": "492774c64f3d48fb90b81b8e032187ef",
       "version_major": 2,
       "version_minor": 0
      },
      "text/plain": [
       "Downloading pytorch_model.bin:   0%|          | 0.00/1.34G [00:00<?, ?B/s]"
      ]
     },
     "metadata": {},
     "output_type": "display_data"
    },
    {
     "data": {
      "text/plain": [
       "BertForQuestionAnswering(\n",
       "  (bert): BertModel(\n",
       "    (embeddings): BertEmbeddings(\n",
       "      (word_embeddings): Embedding(30522, 1024, padding_idx=0)\n",
       "      (position_embeddings): Embedding(512, 1024)\n",
       "      (token_type_embeddings): Embedding(2, 1024)\n",
       "      (LayerNorm): LayerNorm((1024,), eps=1e-12, elementwise_affine=True)\n",
       "      (dropout): Dropout(p=0.1, inplace=False)\n",
       "    )\n",
       "    (encoder): BertEncoder(\n",
       "      (layer): ModuleList(\n",
       "        (0-23): 24 x BertLayer(\n",
       "          (attention): BertAttention(\n",
       "            (self): BertSelfAttention(\n",
       "              (query): Linear(in_features=1024, out_features=1024, bias=True)\n",
       "              (key): Linear(in_features=1024, out_features=1024, bias=True)\n",
       "              (value): Linear(in_features=1024, out_features=1024, bias=True)\n",
       "              (dropout): Dropout(p=0.1, inplace=False)\n",
       "            )\n",
       "            (output): BertSelfOutput(\n",
       "              (dense): Linear(in_features=1024, out_features=1024, bias=True)\n",
       "              (LayerNorm): LayerNorm((1024,), eps=1e-12, elementwise_affine=True)\n",
       "              (dropout): Dropout(p=0.1, inplace=False)\n",
       "            )\n",
       "          )\n",
       "          (intermediate): BertIntermediate(\n",
       "            (dense): Linear(in_features=1024, out_features=4096, bias=True)\n",
       "            (intermediate_act_fn): GELUActivation()\n",
       "          )\n",
       "          (output): BertOutput(\n",
       "            (dense): Linear(in_features=4096, out_features=1024, bias=True)\n",
       "            (LayerNorm): LayerNorm((1024,), eps=1e-12, elementwise_affine=True)\n",
       "            (dropout): Dropout(p=0.1, inplace=False)\n",
       "          )\n",
       "        )\n",
       "      )\n",
       "    )\n",
       "  )\n",
       "  (qa_outputs): Linear(in_features=1024, out_features=2, bias=True)\n",
       ")"
      ]
     },
     "execution_count": 4,
     "metadata": {},
     "output_type": "execute_result"
    }
   ],
   "source": [
    "#Define the bert tokenizer\n",
    "tokenizer = AutoTokenizer.from_pretrained('bert-large-uncased-whole-word-masking-finetuned-squad')\n",
    "\n",
    "# Load the fine-tuned modeol\n",
    "model = BertForQuestionAnswering.from_pretrained('bert-large-uncased-whole-word-masking-finetuned-squad')\n",
    "model.eval()"
   ]
  },
  {
   "cell_type": "markdown",
   "metadata": {
    "id": "pjh85hqyY-2A"
   },
   "source": [
    "##  Making the prediction and evaluating it"
   ]
  },
  {
   "cell_type": "markdown",
   "metadata": {
    "id": "PyWMyNM2ZFNd"
   },
   "source": [
    "Here we used some useful functions from the evaluation script of SQuAD dataset 2.0  to evaluate the fine-tuned model."
   ]
  },
  {
   "cell_type": "code",
   "execution_count": 5,
   "metadata": {
    "id": "jbLzCx8FLN4K"
   },
   "outputs": [],
   "source": [
    "def predict(context,query):\n",
    "\n",
    "  inputs = tokenizer.encode_plus(query, context, return_tensors='pt')\n",
    "\n",
    "  outputs = model(**inputs)\n",
    "  answer_start = torch.argmax(outputs[0])  # get the most likely beginning of answer with the argmax of the score\n",
    "  answer_end = torch.argmax(outputs[1]) + 1 \n",
    "\n",
    "  answer = tokenizer.convert_tokens_to_string(tokenizer.convert_ids_to_tokens(inputs['input_ids'][0][answer_start:answer_end]))\n",
    "\n",
    "  return answer\n",
    "\n",
    "def normalize_text(s):\n",
    "  \"\"\"Removing articles and punctuation, and standardizing whitespace are all typical text processing steps.\"\"\"\n",
    "  import string, re\n",
    "\n",
    "  def remove_articles(text):\n",
    "    regex = re.compile(r\"\\b(a|an|the)\\b\", re.UNICODE)\n",
    "    return re.sub(regex, \" \", text)\n",
    "\n",
    "  def white_space_fix(text):\n",
    "    return \" \".join(text.split())\n",
    "\n",
    "  def remove_punc(text):\n",
    "    exclude = set(string.punctuation)\n",
    "    return \"\".join(ch for ch in text if ch not in exclude)\n",
    "\n",
    "  def lower(text):\n",
    "    return text.lower()\n",
    "\n",
    "  return white_space_fix(remove_articles(remove_punc(lower(s))))\n",
    "\n",
    "def compute_exact_match(prediction, truth):\n",
    "    return int(normalize_text(prediction) == normalize_text(truth))\n",
    "\n",
    "def compute_f1(prediction, truth):\n",
    "  pred_tokens = normalize_text(prediction).split()\n",
    "  truth_tokens = normalize_text(truth).split()\n",
    "  \n",
    "  # if either the prediction or the truth is no-answer then f1 = 1 if they agree, 0 otherwise\n",
    "  if len(pred_tokens) == 0 or len(truth_tokens) == 0:\n",
    "    return int(pred_tokens == truth_tokens)\n",
    "  \n",
    "  common_tokens = set(pred_tokens) & set(truth_tokens)\n",
    "  \n",
    "  # if there are no common tokens then f1 = 0\n",
    "  if len(common_tokens) == 0:\n",
    "    return 0\n",
    "  \n",
    "  prec = len(common_tokens) / len(pred_tokens)\n",
    "  rec = len(common_tokens) / len(truth_tokens)\n",
    "  \n",
    "  return 2 * (prec * rec) / (prec + rec)"
   ]
  },
  {
   "cell_type": "code",
   "execution_count": 6,
   "metadata": {
    "id": "DtMtke3JbCSR"
   },
   "outputs": [],
   "source": [
    "def give_an_answer(context,query,answer):\n",
    "    prediction = predict(context,query)\n",
    "    em_score = compute_exact_match(prediction, answer)\n",
    "    f1_score = compute_f1(prediction, answer)\n",
    "    print(f\"Question: {query}\")\n",
    "    print(f\"Prediction: {prediction}\")\n",
    "    print(f\"True Answer: {answer}\")\n",
    "    print(f\"EM: {em_score}\")\n",
    "    print(f\"F1: {f1_score}\")\n",
    "    print(\"\\n\")"
   ]
  },
  {
   "cell_type": "markdown",
   "metadata": {
    "id": "x2tXL-jNbKkK"
   },
   "source": [
    "##  Testing"
   ]
  },
  {
   "cell_type": "markdown",
   "metadata": {
    "id": "VIDLoiyhbP_D"
   },
   "source": [
    "In training our model, we provided a range of examples, starting with simple ones and progressing to more complex ones. In extractive textual QA tasks, we typically use two evaluation metrics: Exact Match and F1 Score. Exact Match determines if the predicted answer exactly matches the ground-truth answers, while F1 Score calculates the average word overlap between predicted and ground-truth answers, optimizing precision and recall rates simultaneously."
   ]
  },
  {
   "cell_type": "markdown",
   "metadata": {
    "id": "Zg6XNgM9b15M"
   },
   "source": [
    "#### As you can see my model predicted all the answers correct in a very small an easy example."
   ]
  },
  {
   "cell_type": "code",
   "execution_count": 7,
   "metadata": {
    "colab": {
     "base_uri": "https://localhost:8080/"
    },
    "id": "smJvu24DPWxR",
    "outputId": "adf81eaa-6b67-40a1-dfc8-1c6b881a84f5"
   },
   "outputs": [
    {
     "name": "stdout",
     "output_type": "stream",
     "text": [
      "Question: How old is Alexa?\n",
      "Prediction: 21\n",
      "True Answer: 21\n",
      "EM: 1\n",
      "F1: 1.0\n",
      "\n",
      "\n",
      "Question: Where does Alexa live now?\n",
      "Prediction: kaisariani of athens\n",
      "True Answer: Kaisariani of Athens\n",
      "EM: 1\n",
      "F1: 1.0\n",
      "\n",
      "\n",
      "Question: Where Alexa used to live?\n",
      "Prediction: peristeri of athens\n",
      "True Answer: Peristeri of Athens\n",
      "EM: 1\n",
      "F1: 1.0\n",
      "\n",
      "\n"
     ]
    }
   ],
   "source": [
    "context = \"Hi! My name is Alexa and I am 21 years old. I used to live in Peristeri of Athens, but now I moved on in Kaisariani of Athens.\"\n",
    "\n",
    "queries = [\"How old is Alexa?\",\n",
    "           \"Where does Alexa live now?\",\n",
    "           \"Where Alexa used to live?\"\n",
    "          ]\n",
    "answers = [\"21\",\n",
    "           \"Kaisariani of Athens\",\n",
    "           \"Peristeri of Athens\"\n",
    "          ]\n",
    "\n",
    "for q,a in zip(queries,answers):\n",
    "  give_an_answer(context,q,a)"
   ]
  },
  {
   "cell_type": "markdown",
   "metadata": {
    "id": "6Q03Pn8BgcCY"
   },
   "source": [
    "Here we took some content from Wikipedia pages to test my model. we observed that for questions that requires an answer with more than one entities, that in the context are seperated by comma, the model return only the first one (in the question of the members of the band). Moreover, when we asked about the kind of band they are, the model give us he answer of \"British rock\", while we didn't ask about the origin of the band. "
   ]
  },
  {
   "cell_type": "code",
   "execution_count": 8,
   "metadata": {
    "colab": {
     "base_uri": "https://localhost:8080/"
    },
    "id": "7SsSHQMqU2oy",
    "outputId": "90956f87-83b6-4d22-a832-a6c23a7476b0"
   },
   "outputs": [
    {
     "name": "stdout",
     "output_type": "stream",
     "text": [
      "Question: When did Queen found?\n",
      "Prediction: 1970\n",
      "True Answer: 1970\n",
      "EM: 1\n",
      "F1: 1.0\n",
      "\n",
      "\n",
      "Question: Who were the basic members of Queen band?\n",
      "Prediction: freddie mercury ( lead vocals, piano ), brian may ( guitar, vocals ), roger taylor ( drums, vocals ) and john deacon ( bass )\n",
      "True Answer: Freddie Mercury, Brian May, Roger Taylor and John Deacon\n",
      "EM: 0\n",
      "F1: 0.6923076923076924\n",
      "\n",
      "\n",
      "Question: What kind of band they are?\n",
      "Prediction: british rock\n",
      "True Answer: rock\n",
      "EM: 0\n",
      "F1: 0.6666666666666666\n",
      "\n",
      "\n"
     ]
    }
   ],
   "source": [
    "context = \"\"\" Queen are a British rock band formed in London in 1970. Their classic line-up was Freddie Mercury (lead vocals, piano), \n",
    "            Brian May (guitar, vocals), Roger Taylor (drums, vocals) and John Deacon (bass). Their earliest works were influenced \n",
    "            by progressive rock, hard rock and heavy metal, but the band gradually ventured into more conventional and radio-friendly \n",
    "            works by incorporating further styles, such as arena rock and pop rock. \"\"\"\n",
    "\n",
    "queries = [\"When did Queen found?\",\n",
    "           \"Who were the basic members of Queen band?\",\n",
    "           \"What kind of band they are?\"\n",
    "          ]\n",
    "answers = [\"1970\",\n",
    "           \"Freddie Mercury, Brian May, Roger Taylor and John Deacon\",\n",
    "           \"rock\"\n",
    "          ]\n",
    "\n",
    "for q,a in zip(queries,answers):\n",
    "  give_an_answer(context,q,a)"
   ]
  },
  {
   "cell_type": "markdown",
   "metadata": {
    "id": "8QOE-oEKjQru"
   },
   "source": [
    "#### I noticed that with arithmetic answers and with questions that have the same words as the context, model went very well."
   ]
  },
  {
   "cell_type": "code",
   "execution_count": 9,
   "metadata": {
    "colab": {
     "base_uri": "https://localhost:8080/"
    },
    "id": "ssAaoM6jj1RQ",
    "outputId": "ac467ea9-5e60-41cf-b7ea-471ee03e48df"
   },
   "outputs": [
    {
     "name": "stdout",
     "output_type": "stream",
     "text": [
      "Question: How many metres is Olympus?\n",
      "Prediction: 2917\n",
      "True Answer: 2917\n",
      "EM: 1\n",
      "F1: 1.0\n",
      "\n",
      "\n",
      "Question: Where Olympus is near?\n",
      "Prediction: gulf of thermai of the aegean sea\n",
      "True Answer: Gulf of Thérmai of the Aegean Sea\n",
      "EM: 0\n",
      "F1: 0.6666666666666666\n",
      "\n",
      "\n",
      "Question: How far away is Olympus from Thessaloniki?\n",
      "Prediction: 80 km\n",
      "True Answer: 80 km (50 mi)\n",
      "EM: 0\n",
      "F1: 0.6666666666666666\n",
      "\n",
      "\n"
     ]
    }
   ],
   "source": [
    "context = \"\"\" Mount Olympus is the highest mountain in Greece. It is part of the Olympus massif near \n",
    "              the Gulf of Thérmai of the Aegean Sea, located in the Olympus Range on the border between \n",
    "              Thessaly and Macedonia, between the regional units of Pieria and Larissa, about 80 km (50 mi) \n",
    "              southwest from Thessaloniki. Mount Olympus has 52 peaks and deep gorges. The highest peak, \n",
    "              Mytikas, meaning \"nose\", rises to 2917 metres (9,570 ft). It is one of the \n",
    "              highest peaks in Europe in terms of topographic prominence. \"\"\"\n",
    "\n",
    "queries = [\n",
    "           \"How many metres is Olympus?\",\n",
    "           \"Where Olympus is near?\",\n",
    "           \"How far away is Olympus from Thessaloniki?\"\n",
    "          ]\n",
    "answers = [\n",
    "           \"2917\",\n",
    "           \"Gulf of Thérmai of the Aegean Sea\",\n",
    "           \"80 km (50 mi)\"\n",
    "          ]\n",
    "\n",
    "for q,a in zip(queries,answers):\n",
    "  give_an_answer(context,q,a)"
   ]
  },
  {
   "cell_type": "markdown",
   "metadata": {
    "id": "NxV3qCAvj3ZS"
   },
   "source": [
    "Here we gave to the model a bigger context and in particular something from COVID-19.\n",
    "\n",
    "If we ask a question that there isn't any answer in the context or it is irrelevant, then it rightly find no answer."
   ]
  },
  {
   "cell_type": "code",
   "execution_count": 10,
   "metadata": {
    "colab": {
     "base_uri": "https://localhost:8080/"
    },
    "id": "Q6c16XCHoRTX",
    "outputId": "ec44ffb0-f5d3-45d5-e913-912a5639a91f"
   },
   "outputs": [
    {
     "name": "stdout",
     "output_type": "stream",
     "text": [
      "Question: What is COVID-19?\n",
      "Prediction: an ongoing pandemic of coronavirus disease 2019\n",
      "True Answer: an ongoing pandemic of coronavirus disease 2019\n",
      "EM: 1\n",
      "F1: 1.0\n",
      "\n",
      "\n",
      "Question: What is caused by COVID-19?\n",
      "Prediction: coronavirus disease 2019\n",
      "True Answer: severe acute respiratory syndrome coronavirus 2 (SARS-CoV-2)\n",
      "EM: 0\n",
      "F1: 0.2\n",
      "\n",
      "\n",
      "Question: How many cases have been confirmed from COVID-19?\n",
      "Prediction: more than 105 million\n",
      "True Answer: more than 105 million cases\n",
      "EM: 0\n",
      "F1: 0.888888888888889\n",
      "\n",
      "\n",
      "Question: How many deaths have been confirmed from COVID-19?\n",
      "Prediction: 2. 3 million\n",
      "True Answer: more than 2.3 million deaths\n",
      "EM: 0\n",
      "F1: 0.25\n",
      "\n",
      "\n",
      "Question: How is COVID-19 spread?\n",
      "Prediction: through the air when people are near each other\n",
      "True Answer: mainly through the air when people are near each other. It leaves an infected person as they breathe, cough, sneeze, or speak and enters another person via their mouth, nose, or eyes. It may also spread via contaminated surfaces.\n",
      "EM: 0\n",
      "F1: 0.35555555555555557\n",
      "\n",
      "\n",
      "Question: How long can an infected person remain infected?\n",
      "Prediction: up to two weeks\n",
      "True Answer: up to two weeks\n",
      "EM: 1\n",
      "F1: 1.0\n",
      "\n",
      "\n",
      "Question: Can a infected person spread the virus even if they don't have symptoms?\n",
      "Prediction: can spread the virus even if they do not show symptoms\n",
      "True Answer: yes\n",
      "EM: 0\n",
      "F1: 0\n",
      "\n",
      "\n",
      "Question: What do elephants eat?\n",
      "Prediction: [SEP]\n",
      "True Answer: \n",
      "EM: 0\n",
      "F1: 0\n",
      "\n",
      "\n"
     ]
    }
   ],
   "source": [
    "context = \"\"\" The COVID-19 pandemic, also known as the coronavirus pandemic, is an ongoing pandemic of coronavirus disease 2019 (COVID-19) \n",
    "              caused by severe acute respiratory syndrome coronavirus 2 (SARS-CoV-2). It was first identified in December 2019 in Wuhan, China. \n",
    "              The World Health Organization declared the outbreak a Public Health Emergency of International Concern in January 2020 and a pandemic \n",
    "              in March 2020. As of 6 February 2021, more than 105 million cases have been confirmed, with more than 2.3 million deaths attributed to COVID-19.\n",
    "              Symptoms of COVID-19 are highly variable, ranging from none to severe illness. The virus spreads mainly through the air when people are \n",
    "              near each other.[b] It leaves an infected person as they breathe, cough, sneeze, or speak and enters another person via their mouth, nose, or eyes. \n",
    "              It may also spread via contaminated surfaces. People remain infectious for up to two weeks, and can spread the virus even if they do not show symptoms.[9]\"\"\"\n",
    "\n",
    "queries = [\n",
    "           \"What is COVID-19?\",\n",
    "           \"What is caused by COVID-19?\",\n",
    "           \"How many cases have been confirmed from COVID-19?\",\n",
    "           \"How many deaths have been confirmed from COVID-19?\",\n",
    "           \"How is COVID-19 spread?\",\n",
    "           \"How long can an infected person remain infected?\",\n",
    "           \"Can a infected person spread the virus even if they don't have symptoms?\",\n",
    "           \"What do elephants eat?\"\n",
    "          ]\n",
    "answers = [\n",
    "           \"an ongoing pandemic of coronavirus disease 2019\",\n",
    "           \"severe acute respiratory syndrome coronavirus 2 (SARS-CoV-2)\",\n",
    "           \"more than 105 million cases\",\n",
    "           \"more than 2.3 million deaths\",\n",
    "           \"mainly through the air when people are near each other. It leaves an infected person as they breathe, cough, sneeze, or speak and enters another person via their mouth, nose, or eyes. It may also spread via contaminated surfaces.\",\n",
    "           \"up to two weeks\",\n",
    "           \"yes\",\n",
    "           \"\"\n",
    "          ]\n",
    "\n",
    "for q,a in zip(queries,answers):\n",
    "  give_an_answer(context,q,a)"
   ]
  },
  {
   "cell_type": "markdown",
   "metadata": {
    "id": "lt2uOfwDllpE"
   },
   "source": [
    "Here we gave a context from Harry Potter Wikipedia informations and more difficult questions like \"Who is the enemy of Harry Potter?\" that didn't find any answer because it doesn't explicitly refer to him as an enemy."
   ]
  },
  {
   "cell_type": "code",
   "execution_count": 11,
   "metadata": {
    "colab": {
     "base_uri": "https://localhost:8080/"
    },
    "id": "Rc7p-e4wj47T",
    "outputId": "165e6228-9663-4ce1-ffd2-91d342a67a00"
   },
   "outputs": [
    {
     "name": "stdout",
     "output_type": "stream",
     "text": [
      "Question: Who wrote Harry Potter's novels?\n",
      "Prediction: j. k. rowling\n",
      "True Answer: J. K. Rowling\n",
      "EM: 1\n",
      "F1: 1.0\n",
      "\n",
      "\n",
      "Question: Who are Harry Potter's friends?\n",
      "Prediction: hermione granger and ron weasley\n",
      "True Answer: Hermione Granger and Ron Weasley\n",
      "EM: 1\n",
      "F1: 1.0\n",
      "\n",
      "\n",
      "Question: Who is the enemy of Harry Potter?\n",
      "Prediction: lord voldemort\n",
      "True Answer: Lord Voldemort\n",
      "EM: 1\n",
      "F1: 1.0\n",
      "\n",
      "\n",
      "Question: What are Muggles?\n",
      "Prediction: non - magical people\n",
      "True Answer: non-magical people\n",
      "EM: 0\n",
      "F1: 0.4\n",
      "\n",
      "\n",
      "Question: Which is the name of Harry Poter's first novel?\n",
      "Prediction: harry potter and the philosopher ' s stone\n",
      "True Answer: Harry Potter and the Philosopher's Stone\n",
      "EM: 0\n",
      "F1: 0.7272727272727272\n",
      "\n",
      "\n",
      "Question: When did the first novel release?\n",
      "Prediction: 26 june 1997\n",
      "True Answer: 26 June 1997\n",
      "EM: 1\n",
      "F1: 1.0\n",
      "\n",
      "\n",
      "Question: Who was attracted by Harry Potter novels?\n",
      "Prediction: wide adult audience as well as younger readers\n",
      "True Answer: a wide adult audience as well as younger readers\n",
      "EM: 1\n",
      "F1: 0.875\n",
      "\n",
      "\n",
      "Question: How many languages Harry Potter has been translated into? \n",
      "Prediction: eighty\n",
      "True Answer: eighty\n",
      "EM: 1\n",
      "F1: 1.0\n",
      "\n",
      "\n"
     ]
    }
   ],
   "source": [
    "context = \"\"\" Harry Potter is a series of seven fantasy novels written by British author, J. K. Rowling. The novels chronicle the lives of a young wizard, \n",
    "              Harry Potter, and his friends Hermione Granger and Ron Weasley, all of whom are students at Hogwarts School of Witchcraft and Wizardry. \n",
    "              The main story arc concerns Harry's struggle against Lord Voldemort, a dark wizard who intends to become immortal, overthrow the wizard \n",
    "              governing body known as the Ministry of Magic and subjugate all wizards and Muggles (non-magical people). Since the release of the first novel, \n",
    "              Harry Potter and the Philosopher's Stone, on 26 June 1997, the books have found immense popularity, positive reviews, and commercial success worldwide. \n",
    "              They have attracted a wide adult audience as well as younger readers and are often considered cornerstones of modern young adult literature.[2] \n",
    "              As of February 2018, the books have sold more than 500 million copies worldwide, making them the best-selling book series in history, and have been translated \n",
    "              into eighty languages.[3] The last four books consecutively set records as the fastest-selling books in history, with the final installment selling roughly \n",
    "              eleven million copies in the United States within twenty-four hours of its release.  \"\"\"\n",
    "\n",
    "queries = [\n",
    "           \"Who wrote Harry Potter's novels?\",\n",
    "           \"Who are Harry Potter's friends?\",\n",
    "           \"Who is the enemy of Harry Potter?\",\n",
    "           \"What are Muggles?\",\n",
    "           \"Which is the name of Harry Poter's first novel?\",\n",
    "           \"When did the first novel release?\",\n",
    "           \"Who was attracted by Harry Potter novels?\",\n",
    "           \"How many languages Harry Potter has been translated into? \"\n",
    "          ]\n",
    "answers = [\n",
    "           \"J. K. Rowling\",\n",
    "           \"Hermione Granger and Ron Weasley\",\n",
    "           \"Lord Voldemort\",\n",
    "           \"non-magical people\",\n",
    "           \"Harry Potter and the Philosopher's Stone\",\n",
    "           \"26 June 1997\",\n",
    "           \"a wide adult audience as well as younger readers\",\n",
    "           \"eighty\"\n",
    "          ]\n",
    "\n",
    "for q,a in zip(queries,answers):\n",
    "  give_an_answer(context,q,a)"
   ]
  },
  {
   "cell_type": "markdown",
   "metadata": {
    "id": "2X7cC5rjxIRl"
   },
   "source": [
    "## Summary\n",
    "- It's evident that the pretrained fine-tuned model exhibits superior performance.\n",
    "- It accurately responds to nearly all the questions posed. For instance, it lists all four members of the Queen band, whereas my model only provided the first member due to separation by a comma.\n",
    "- Another noteworthy example of its superiority is its ability to identify Harry Potter's perennial adversary, even without explicit mention within the passage.\n",
    "- Despite our anticipation of outperforming my fine-tuned model, I must acknowledge that it performed admirably. It's a commendable effort relative to this model's capabilities."
   ]
  },
  {
   "cell_type": "code",
   "execution_count": null,
   "metadata": {
    "id": "of5UVn92-RbC"
   },
   "outputs": [],
   "source": []
  }
 ],
 "metadata": {
  "colab": {
   "collapsed_sections": [],
   "name": "Evaluate_Existed_Fine_Tuned_Bert.ipynb",
   "provenance": []
  },
  "kernelspec": {
   "display_name": "Python 3 (ipykernel)",
   "language": "python",
   "name": "python3"
  },
  "language_info": {
   "codemirror_mode": {
    "name": "ipython",
    "version": 3
   },
   "file_extension": ".py",
   "mimetype": "text/x-python",
   "name": "python",
   "nbconvert_exporter": "python",
   "pygments_lexer": "ipython3",
   "version": "3.9.7"
  },
  "widgets": {
   "application/vnd.jupyter.widget-state+json": {
    "2cd2be854d124889914f51a1c6e45c38": {
     "model_module": "@jupyter-widgets/controls",
     "model_name": "DescriptionStyleModel",
     "state": {
      "_model_module": "@jupyter-widgets/controls",
      "_model_module_version": "1.5.0",
      "_model_name": "DescriptionStyleModel",
      "_view_count": null,
      "_view_module": "@jupyter-widgets/base",
      "_view_module_version": "1.2.0",
      "_view_name": "StyleView",
      "description_width": ""
     }
    },
    "3b1b3523f4f44e92b9057606aa1416de": {
     "model_module": "@jupyter-widgets/controls",
     "model_name": "HTMLModel",
     "state": {
      "_dom_classes": [],
      "_model_module": "@jupyter-widgets/controls",
      "_model_module_version": "1.5.0",
      "_model_name": "HTMLModel",
      "_view_count": null,
      "_view_module": "@jupyter-widgets/controls",
      "_view_module_version": "1.5.0",
      "_view_name": "HTMLView",
      "description": "",
      "description_tooltip": null,
      "layout": "IPY_MODEL_a579eae1c7ef481f81fa022d2a5b56fd",
      "placeholder": "​",
      "style": "IPY_MODEL_2cd2be854d124889914f51a1c6e45c38",
      "value": " 1.34G/1.34G [00:23&lt;00:00, 57.9MB/s]"
     }
    },
    "55d5f382710d46b68cc3fa5edba14a3f": {
     "model_module": "@jupyter-widgets/base",
     "model_name": "LayoutModel",
     "state": {
      "_model_module": "@jupyter-widgets/base",
      "_model_module_version": "1.2.0",
      "_model_name": "LayoutModel",
      "_view_count": null,
      "_view_module": "@jupyter-widgets/base",
      "_view_module_version": "1.2.0",
      "_view_name": "LayoutView",
      "align_content": null,
      "align_items": null,
      "align_self": null,
      "border": null,
      "bottom": null,
      "display": null,
      "flex": null,
      "flex_flow": null,
      "grid_area": null,
      "grid_auto_columns": null,
      "grid_auto_flow": null,
      "grid_auto_rows": null,
      "grid_column": null,
      "grid_gap": null,
      "grid_row": null,
      "grid_template_areas": null,
      "grid_template_columns": null,
      "grid_template_rows": null,
      "height": null,
      "justify_content": null,
      "justify_items": null,
      "left": null,
      "margin": null,
      "max_height": null,
      "max_width": null,
      "min_height": null,
      "min_width": null,
      "object_fit": null,
      "object_position": null,
      "order": null,
      "overflow": null,
      "overflow_x": null,
      "overflow_y": null,
      "padding": null,
      "right": null,
      "top": null,
      "visibility": null,
      "width": null
     }
    },
    "675e804c229e4a4bbcda754c9ad6e1d0": {
     "model_module": "@jupyter-widgets/controls",
     "model_name": "FloatProgressModel",
     "state": {
      "_dom_classes": [],
      "_model_module": "@jupyter-widgets/controls",
      "_model_module_version": "1.5.0",
      "_model_name": "FloatProgressModel",
      "_view_count": null,
      "_view_module": "@jupyter-widgets/controls",
      "_view_module_version": "1.5.0",
      "_view_name": "ProgressView",
      "bar_style": "success",
      "description": "Downloading: 100%",
      "description_tooltip": null,
      "layout": "IPY_MODEL_55d5f382710d46b68cc3fa5edba14a3f",
      "max": 1340675298,
      "min": 0,
      "orientation": "horizontal",
      "style": "IPY_MODEL_dc7bb69b4c5640bdb35c3de3d3984d4e",
      "value": 1340675298
     }
    },
    "7caa0cbec50b431d861e8335f123a97c": {
     "model_module": "@jupyter-widgets/base",
     "model_name": "LayoutModel",
     "state": {
      "_model_module": "@jupyter-widgets/base",
      "_model_module_version": "1.2.0",
      "_model_name": "LayoutModel",
      "_view_count": null,
      "_view_module": "@jupyter-widgets/base",
      "_view_module_version": "1.2.0",
      "_view_name": "LayoutView",
      "align_content": null,
      "align_items": null,
      "align_self": null,
      "border": null,
      "bottom": null,
      "display": null,
      "flex": null,
      "flex_flow": null,
      "grid_area": null,
      "grid_auto_columns": null,
      "grid_auto_flow": null,
      "grid_auto_rows": null,
      "grid_column": null,
      "grid_gap": null,
      "grid_row": null,
      "grid_template_areas": null,
      "grid_template_columns": null,
      "grid_template_rows": null,
      "height": null,
      "justify_content": null,
      "justify_items": null,
      "left": null,
      "margin": null,
      "max_height": null,
      "max_width": null,
      "min_height": null,
      "min_width": null,
      "object_fit": null,
      "object_position": null,
      "order": null,
      "overflow": null,
      "overflow_x": null,
      "overflow_y": null,
      "padding": null,
      "right": null,
      "top": null,
      "visibility": null,
      "width": null
     }
    },
    "8c6a9219db3e4b14be0f9af99f76fbad": {
     "model_module": "@jupyter-widgets/controls",
     "model_name": "HBoxModel",
     "state": {
      "_dom_classes": [],
      "_model_module": "@jupyter-widgets/controls",
      "_model_module_version": "1.5.0",
      "_model_name": "HBoxModel",
      "_view_count": null,
      "_view_module": "@jupyter-widgets/controls",
      "_view_module_version": "1.5.0",
      "_view_name": "HBoxView",
      "box_style": "",
      "children": [
       "IPY_MODEL_675e804c229e4a4bbcda754c9ad6e1d0",
       "IPY_MODEL_3b1b3523f4f44e92b9057606aa1416de"
      ],
      "layout": "IPY_MODEL_7caa0cbec50b431d861e8335f123a97c"
     }
    },
    "a579eae1c7ef481f81fa022d2a5b56fd": {
     "model_module": "@jupyter-widgets/base",
     "model_name": "LayoutModel",
     "state": {
      "_model_module": "@jupyter-widgets/base",
      "_model_module_version": "1.2.0",
      "_model_name": "LayoutModel",
      "_view_count": null,
      "_view_module": "@jupyter-widgets/base",
      "_view_module_version": "1.2.0",
      "_view_name": "LayoutView",
      "align_content": null,
      "align_items": null,
      "align_self": null,
      "border": null,
      "bottom": null,
      "display": null,
      "flex": null,
      "flex_flow": null,
      "grid_area": null,
      "grid_auto_columns": null,
      "grid_auto_flow": null,
      "grid_auto_rows": null,
      "grid_column": null,
      "grid_gap": null,
      "grid_row": null,
      "grid_template_areas": null,
      "grid_template_columns": null,
      "grid_template_rows": null,
      "height": null,
      "justify_content": null,
      "justify_items": null,
      "left": null,
      "margin": null,
      "max_height": null,
      "max_width": null,
      "min_height": null,
      "min_width": null,
      "object_fit": null,
      "object_position": null,
      "order": null,
      "overflow": null,
      "overflow_x": null,
      "overflow_y": null,
      "padding": null,
      "right": null,
      "top": null,
      "visibility": null,
      "width": null
     }
    },
    "dc7bb69b4c5640bdb35c3de3d3984d4e": {
     "model_module": "@jupyter-widgets/controls",
     "model_name": "ProgressStyleModel",
     "state": {
      "_model_module": "@jupyter-widgets/controls",
      "_model_module_version": "1.5.0",
      "_model_name": "ProgressStyleModel",
      "_view_count": null,
      "_view_module": "@jupyter-widgets/base",
      "_view_module_version": "1.2.0",
      "_view_name": "StyleView",
      "bar_color": null,
      "description_width": "initial"
     }
    }
   }
  }
 },
 "nbformat": 4,
 "nbformat_minor": 1
}
